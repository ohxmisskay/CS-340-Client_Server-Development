{
 "cells": [
  {
   "cell_type": "code",
   "execution_count": 1,
   "id": "9f832105",
   "metadata": {},
   "outputs": [
    {
     "name": "stdout",
     "output_type": "stream",
     "text": [
      "Connection Successful\n"
     ]
    }
   ],
   "source": [
    "# Log in successful\n",
    "from animalShelter import AnimalShelter\n",
    "\n",
    "CRUD = AnimalShelter(\"aacuser\", \"5H1RO2018\")\n"
   ]
  },
  {
   "cell_type": "code",
   "execution_count": 2,
   "id": "f0b9cba3",
   "metadata": {},
   "outputs": [
    {
     "name": "stdout",
     "output_type": "stream",
     "text": [
      "True\n"
     ]
    }
   ],
   "source": [
    "# When creating is valid\n",
    "created = CRUD.create({\"animal_type\": \"Dog\"})\n",
    "print (created)"
   ]
  },
  {
   "cell_type": "code",
   "execution_count": 3,
   "id": "4166801e",
   "metadata": {},
   "outputs": [
    {
     "ename": "TypeError",
     "evalue": "create() missing 1 required positional argument: 'data'",
     "output_type": "error",
     "traceback": [
      "\u001b[0;31m---------------------------------------------------------------------------\u001b[0m",
      "\u001b[0;31mTypeError\u001b[0m                                 Traceback (most recent call last)",
      "Input \u001b[0;32mIn [3]\u001b[0m, in \u001b[0;36m<cell line: 3>\u001b[0;34m()\u001b[0m\n\u001b[1;32m      1\u001b[0m \u001b[38;5;66;03m# When created is left blank\u001b[39;00m\n\u001b[0;32m----> 3\u001b[0m created \u001b[38;5;241m=\u001b[39m \u001b[43mCRUD\u001b[49m\u001b[38;5;241;43m.\u001b[39;49m\u001b[43mcreate\u001b[49m\u001b[43m(\u001b[49m\u001b[43m)\u001b[49m\n\u001b[1;32m      4\u001b[0m \u001b[38;5;28mprint\u001b[39m (created)\n",
      "\u001b[0;31mTypeError\u001b[0m: create() missing 1 required positional argument: 'data'"
     ]
    }
   ],
   "source": [
    "# When created is left blank\n",
    "\n",
    "created = CRUD.create()\n",
    "print (created)"
   ]
  },
  {
   "cell_type": "code",
   "execution_count": 4,
   "id": "df72e594",
   "metadata": {},
   "outputs": [
    {
     "name": "stdout",
     "output_type": "stream",
     "text": [
      "False\n"
     ]
    }
   ],
   "source": [
    "#Invalid creation\n",
    "created = CRUD.create({0:0})\n",
    "print (created)"
   ]
  },
  {
   "cell_type": "code",
   "execution_count": 5,
   "id": "7494c18f",
   "metadata": {},
   "outputs": [
    {
     "name": "stdout",
     "output_type": "stream",
     "text": [
      "{'rec_num': 1, 'age_upon_outcome': '3 years', 'animal_id': 'A746874', 'animal_type': 'Cat', 'breed': 'Domestic Shorthair Mix', 'color': 'Black/White', 'date_of_birth': '2014-04-10', 'datetime': '2017-04-11 09:00:00', 'monthyear': '2017-04-11T09:00:00', 'name': '', 'outcome_subtype': 'SCRP', 'outcome_type': 'Transfer', 'sex_upon_outcome': 'Neutered Male', 'location_lat': 30.5066578739455, 'location_long': -97.3408780722188, 'age_upon_outcome_in_weeks': 156.767857142857}\n"
     ]
    }
   ],
   "source": [
    "# Data exists, print information\n",
    "readResults = CRUD.read({\"animal_type\": \"Cat\",\"color\": \"Black/White\", \"date_of_birth\": \"2014-04-10\"})\n",
    "\n",
    "for r in readResults:\n",
    "    print (r)"
   ]
  },
  {
   "cell_type": "code",
   "execution_count": 6,
   "id": "4c276af7",
   "metadata": {},
   "outputs": [
    {
     "name": "stdout",
     "output_type": "stream",
     "text": [
      "Invalid input, please try again\n"
     ]
    }
   ],
   "source": [
    "# Data does not exist\n",
    "\n",
    "readResults = CRUD.read({\"animal_type\": 0})\n",
    "print (\"Invalid input, please try again\")"
   ]
  },
  {
   "cell_type": "code",
   "execution_count": 7,
   "id": "1bde5036",
   "metadata": {},
   "outputs": [
    {
     "name": "stdout",
     "output_type": "stream",
     "text": [
      "Invalid input, please try again\n"
     ]
    }
   ],
   "source": [
    "# Data does not exist\n",
    "\n",
    "readResults = CRUD.read({\"animal_type\": \"Dinosaur\"})\n",
    "print (\"Invalid input, please try again\")"
   ]
  },
  {
   "cell_type": "code",
   "execution_count": 8,
   "id": "2cd28bb4",
   "metadata": {},
   "outputs": [
    {
     "name": "stdout",
     "output_type": "stream",
     "text": [
      "Invalid input, please try again\n"
     ]
    }
   ],
   "source": [
    "# Data does not exist\n",
    "\n",
    "readResults = CRUD.read({\"animal_type\": \"Dinosaur\",\"color\": \"Black/White\"})\n",
    "print (\"Invalid input, please try again\")"
   ]
  },
  {
   "cell_type": "code",
   "execution_count": null,
   "id": "5983bf4e",
   "metadata": {},
   "outputs": [],
   "source": []
  }
 ],
 "metadata": {
  "kernelspec": {
   "display_name": "Python 3 (ipykernel)",
   "language": "python",
   "name": "python3"
  },
  "language_info": {
   "codemirror_mode": {
    "name": "ipython",
    "version": 3
   },
   "file_extension": ".py",
   "mimetype": "text/x-python",
   "name": "python",
   "nbconvert_exporter": "python",
   "pygments_lexer": "ipython3",
   "version": "3.9.12"
  }
 },
 "nbformat": 4,
 "nbformat_minor": 5
}
