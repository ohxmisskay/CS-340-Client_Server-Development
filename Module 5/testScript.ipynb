{
 "cells": [
  {
   "cell_type": "code",
   "execution_count": 1,
   "id": "9f832105",
   "metadata": {},
   "outputs": [
    {
     "name": "stdout",
     "output_type": "stream",
     "text": [
      "Connection Successful\n"
     ]
    }
   ],
   "source": [
    "# Log in successful\n",
    "from animalShelter import AnimalShelter\n",
    "\n",
    "CRUD = AnimalShelter(\"aacuser\", \"5H1RO2018\")\n"
   ]
  },
  {
   "cell_type": "code",
   "execution_count": 2,
   "id": "f0b9cba3",
   "metadata": {},
   "outputs": [
    {
     "name": "stdout",
     "output_type": "stream",
     "text": [
      "True\n"
     ]
    }
   ],
   "source": [
    "# When creating is valid\n",
    "created = CRUD.create({\"age_upon_outcome\": \"3 years\",\"animal_id\": \"K693288\", \"breed\": \"Akita\", \"name\": \"John Doe\"})\n",
    "print (created)"
   ]
  },
  {
   "cell_type": "code",
   "execution_count": 3,
   "id": "4166801e",
   "metadata": {},
   "outputs": [
    {
     "ename": "TypeError",
     "evalue": "create() missing 1 required positional argument: 'data'",
     "output_type": "error",
     "traceback": [
      "\u001b[0;31m---------------------------------------------------------------------------\u001b[0m",
      "\u001b[0;31mTypeError\u001b[0m                                 Traceback (most recent call last)",
      "Input \u001b[0;32mIn [3]\u001b[0m, in \u001b[0;36m<cell line: 3>\u001b[0;34m()\u001b[0m\n\u001b[1;32m      1\u001b[0m \u001b[38;5;66;03m# When created is left blank\u001b[39;00m\n\u001b[0;32m----> 3\u001b[0m created \u001b[38;5;241m=\u001b[39m \u001b[43mCRUD\u001b[49m\u001b[38;5;241;43m.\u001b[39;49m\u001b[43mcreate\u001b[49m\u001b[43m(\u001b[49m\u001b[43m)\u001b[49m\n\u001b[1;32m      4\u001b[0m \u001b[38;5;28mprint\u001b[39m (created)\n",
      "\u001b[0;31mTypeError\u001b[0m: create() missing 1 required positional argument: 'data'"
     ]
    }
   ],
   "source": [
    "# When created is left blank\n",
    "\n",
    "created = CRUD.create()\n",
    "print (created)"
   ]
  },
  {
   "cell_type": "code",
   "execution_count": 4,
   "id": "df72e594",
   "metadata": {},
   "outputs": [
    {
     "name": "stdout",
     "output_type": "stream",
     "text": [
      "False\n"
     ]
    }
   ],
   "source": [
    "#Invalid creation\n",
    "created = CRUD.create({0:0})\n",
    "print (created)"
   ]
  },
  {
   "cell_type": "code",
   "execution_count": 5,
   "id": "7494c18f",
   "metadata": {},
   "outputs": [
    {
     "name": "stdout",
     "output_type": "stream",
     "text": [
      "{'age_upon_outcome': '3 years', 'animal_id': 'K693288', 'breed': 'Akita', 'name': 'John Doe'}\n"
     ]
    }
   ],
   "source": [
    "# Data exists, print information (search one)\n",
    "readResults = CRUD.read({\"animal_id\": \"K693288\"})\n",
    "\n",
    "for r in readResults:\n",
    "    print (r)"
   ]
  },
  {
   "cell_type": "code",
   "execution_count": 6,
   "id": "ac00a8ab",
   "metadata": {},
   "outputs": [
    {
     "name": "stdout",
     "output_type": "stream",
     "text": [
      "{'rec_num': 23, 'age_upon_outcome': '2 years', 'animal_id': 'A692137', 'animal_type': 'Dog', 'breed': 'Pit Bull Mix', 'color': 'Blue/White', 'date_of_birth': '2013-05-15', 'datetime': '2016-03-01 15:26:00', 'monthyear': '2016-03-01T15:26:00', 'name': 'Shadow', 'outcome_subtype': 'Partner', 'outcome_type': 'Transfer', 'sex_upon_outcome': 'Intact Male', 'location_lat': 30.3691596527395, 'location_long': -97.3810871961031, 'age_upon_outcome_in_weeks': 145.949007936508}\n",
      "{'rec_num': 7299, 'age_upon_outcome': '2 years', 'animal_id': 'A696772', 'animal_type': 'Dog', 'breed': 'Pit Bull Mix', 'color': 'Blue/White', 'date_of_birth': '2013-02-12', 'datetime': '2015-02-23 12:28:00', 'monthyear': '2015-02-23T12:28:00', 'name': '', 'outcome_subtype': 'Partner', 'outcome_type': 'Transfer', 'sex_upon_outcome': 'Intact Male', 'location_lat': 30.68438466996, 'location_long': -97.5720848388826, 'age_upon_outcome_in_weeks': 105.931349206349}\n"
     ]
    }
   ],
   "source": [
    "# Data exists, print information (search multiple)\n",
    "readResults = CRUD.read({\"age_upon_outcome\": \"2 years\",\"animal_type\": \"Dog\",\"breed\": \"Pit Bull Mix\", \"color\":\"Blue/White\", \"outcome_type\":\"Transfer\"})\n",
    "\n",
    "for r in readResults:\n",
    "    print (r)"
   ]
  },
  {
   "cell_type": "code",
   "execution_count": 7,
   "id": "4c276af7",
   "metadata": {},
   "outputs": [],
   "source": [
    "# Data does not exist\n",
    "\n",
    "readResults = CRUD.read({\"animal_type\": 0})\n",
    "\n",
    "for r in readResults:\n",
    "    print (r)\n"
   ]
  },
  {
   "cell_type": "code",
   "execution_count": 8,
   "id": "2cd28bb4",
   "metadata": {},
   "outputs": [],
   "source": [
    "# Data does not exist\n",
    "\n",
    "readResults = CRUD.read({\"animal_type\": \"Dinosaur\",\"color\": \"Black/White\"})\n"
   ]
  },
  {
   "cell_type": "code",
   "execution_count": 9,
   "id": "5983bf4e",
   "metadata": {},
   "outputs": [
    {
     "name": "stdout",
     "output_type": "stream",
     "text": [
      "1 request complete.\n",
      "{'age_upon_outcome': '3 years', 'animal_id': 'K693288', 'breed': 'Akita', 'name': 'Miko'}\n"
     ]
    }
   ],
   "source": [
    "# Update information (one)\n",
    "updated = CRUD.update({\"animal_id\": \"K693288\"}, {\"name\" : \"Miko\"})\n",
    "readResults = CRUD.read({\"animal_id\" : \"K693288\"})\n",
    "\n",
    "for r in readResults:\n",
    "    print (r)\n",
    "    \n"
   ]
  },
  {
   "cell_type": "code",
   "execution_count": 10,
   "id": "d365c835",
   "metadata": {},
   "outputs": [
    {
     "name": "stdout",
     "output_type": "stream",
     "text": [
      "1 request complete.\n",
      "{'age_upon_outcome': '3 years', 'animal_id': 'K693288', 'breed': 'Shiba Inu', 'name': 'Miko', 'outcome_subtype': 'partner', 'outcome_type': 'Transfer'}\n"
     ]
    }
   ],
   "source": [
    "# Update information (many)\n",
    "updated = CRUD.update({\"animal_id\": \"K693288\"}, {\"breed\": \"Shiba Inu\",\"outcome_type\": \"Transfer\",\"outcome_subtype\":\"partner\"})\n",
    "readResults = CRUD.read({\"animal_id\" : \"K693288\"})\n",
    "\n",
    "for r in readResults:\n",
    "    print (r)"
   ]
  },
  {
   "cell_type": "code",
   "execution_count": 11,
   "id": "2cc5d897",
   "metadata": {},
   "outputs": [
    {
     "ename": "TypeError",
     "evalue": "update() missing 2 required positional arguments: 'searchData' and 'updateData'",
     "output_type": "error",
     "traceback": [
      "\u001b[0;31m---------------------------------------------------------------------------\u001b[0m",
      "\u001b[0;31mTypeError\u001b[0m                                 Traceback (most recent call last)",
      "Input \u001b[0;32mIn [11]\u001b[0m, in \u001b[0;36m<cell line: 2>\u001b[0;34m()\u001b[0m\n\u001b[1;32m      1\u001b[0m \u001b[38;5;66;03m# Invalid update information\u001b[39;00m\n\u001b[0;32m----> 2\u001b[0m updated \u001b[38;5;241m=\u001b[39m \u001b[43mCRUD\u001b[49m\u001b[38;5;241;43m.\u001b[39;49m\u001b[43mupdate\u001b[49m\u001b[43m(\u001b[49m\u001b[43m)\u001b[49m\n",
      "\u001b[0;31mTypeError\u001b[0m: update() missing 2 required positional arguments: 'searchData' and 'updateData'"
     ]
    }
   ],
   "source": [
    "# Invalid update information\n",
    "updated = CRUD.update()\n",
    "\n"
   ]
  },
  {
   "cell_type": "code",
   "execution_count": 12,
   "id": "b16015be",
   "metadata": {},
   "outputs": [
    {
     "name": "stdout",
     "output_type": "stream",
     "text": [
      "1 request complete.\n",
      "{'age_upon_outcome': '3 years', 'animal_id': 'K693288', 'breed': 'Shiba Inu', 'outcome_subtype': 'partner', 'outcome_type': 'Transfer'}\n"
     ]
    }
   ],
   "source": [
    "# Remove information (remove partial information)\n",
    "deleted = CRUD.delete({\"animal_id\" : \"K693288\"}, {\"name\" : \"Miko\"})\n",
    "readResults = CRUD.read({\"animal_id\" : \"K693288\"})\n",
    "\n",
    "for r in readResults:\n",
    "    print (r)"
   ]
  },
  {
   "cell_type": "code",
   "execution_count": 13,
   "id": "e355f114",
   "metadata": {},
   "outputs": [
    {
     "name": "stdout",
     "output_type": "stream",
     "text": [
      "1 request complete.\n",
      "{'age_upon_outcome': '3 years', 'animal_id': 'K693288', 'breed': 'Shiba Inu'}\n"
     ]
    }
   ],
   "source": [
    "# Remove information (remove multiple information)\n",
    "deleted = CRUD.delete({\"animal_id\" : \"K693288\"}, {\"outcome_type\": \"Transfer\",\"outcome_subtype\":\"partner\"} )\n",
    "readResults = CRUD.read({\"animal_id\" : \"K693288\"})\n",
    "\n",
    "for r in readResults:\n",
    "    print (r)"
   ]
  },
  {
   "cell_type": "code",
   "execution_count": 14,
   "id": "c55fa857",
   "metadata": {},
   "outputs": [
    {
     "name": "stdout",
     "output_type": "stream",
     "text": [
      "1 request complete.\n"
     ]
    }
   ],
   "source": [
    "# Remove information (remove)\n",
    "\n",
    "deleted = CRUD.delete({\"animal_id\" : \"K693288\"}, {\"animal_id\" : \"K693288\"})\n",
    "readResults = CRUD.read({\"animal_id\" : \"K693288\"})\n",
    "\n",
    "for r in readResults:\n",
    "    print (r)"
   ]
  }
 ],
 "metadata": {
  "kernelspec": {
   "display_name": "Python 3 (ipykernel)",
   "language": "python",
   "name": "python3"
  },
  "language_info": {
   "codemirror_mode": {
    "name": "ipython",
    "version": 3
   },
   "file_extension": ".py",
   "mimetype": "text/x-python",
   "name": "python",
   "nbconvert_exporter": "python",
   "pygments_lexer": "ipython3",
   "version": "3.9.12"
  }
 },
 "nbformat": 4,
 "nbformat_minor": 5
}
